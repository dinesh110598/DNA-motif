{
 "cells": [
  {
   "cell_type": "markdown",
   "metadata": {},
   "source": [
    "## MaskRCNN code base"
   ]
  },
  {
   "cell_type": "code",
   "execution_count": 1,
   "metadata": {},
   "outputs": [],
   "source": [
    "import numpy as np"
   ]
  },
  {
   "cell_type": "markdown",
   "metadata": {},
   "source": [
    "Understanding the anchor generating function"
   ]
  },
  {
   "cell_type": "code",
   "execution_count": 2,
   "metadata": {},
   "outputs": [],
   "source": [
    "feature_shapes = 32\n",
    "feature_strides = 512//32\n",
    "anchor_sizes = [39,46,52,58,65]\n",
    "anchor_stride = 1"
   ]
  },
  {
   "cell_type": "code",
   "execution_count": 3,
   "metadata": {},
   "outputs": [],
   "source": [
    "x = np.arange(0, feature_shapes, anchor_stride) * feature_strides\n",
    "y = np.arange(0, feature_shapes, anchor_stride) * feature_strides\n",
    "x, y = np.meshgrid(x, y)"
   ]
  },
  {
   "cell_type": "code",
   "execution_count": 4,
   "metadata": {},
   "outputs": [
    {
     "data": {
      "text/plain": [
       "(32, 32)"
      ]
     },
     "execution_count": 4,
     "metadata": {},
     "output_type": "execute_result"
    }
   ],
   "source": [
    "x.shape # The x coordinate of the lower left corner\n",
    "# of each anchor"
   ]
  },
  {
   "cell_type": "code",
   "execution_count": 5,
   "metadata": {},
   "outputs": [],
   "source": [
    "width, x = np.meshgrid(anchor_sizes, x)\n",
    "height, y = np.meshgrid(anchor_sizes, y)"
   ]
  },
  {
   "cell_type": "code",
   "execution_count": 8,
   "metadata": {},
   "outputs": [
    {
     "data": {
      "text/plain": [
       "(1024, 5)"
      ]
     },
     "execution_count": 8,
     "metadata": {},
     "output_type": "execute_result"
    }
   ],
   "source": [
    "np.shape(x) #The x coordinate of each anchor is still preserved\n",
    "# but their positions are flattened, and we defined anchors of\n",
    "# 5 different sizes at each position"
   ]
  },
  {
   "cell_type": "code",
   "execution_count": 6,
   "metadata": {},
   "outputs": [],
   "source": [
    "# Reshape indices and shapes\n",
    "x = x.reshape((-1, 1))\n",
    "y = y.reshape((-1, 1))\n",
    "width = width.flatten().reshape((-1, 1))\n",
    "height = height.flatten().reshape((-1, 1))"
   ]
  },
  {
   "cell_type": "code",
   "execution_count": 7,
   "metadata": {},
   "outputs": [
    {
     "data": {
      "text/plain": [
       "(5120, 1)"
      ]
     },
     "execution_count": 7,
     "metadata": {},
     "output_type": "execute_result"
    }
   ],
   "source": [
    "x.shape"
   ]
  },
  {
   "cell_type": "code",
   "execution_count": 11,
   "metadata": {},
   "outputs": [],
   "source": [
    "bbox_centers = np.concatenate((y, x), axis=1)\n",
    "bbox_shapes = np.concatenate((height, width), axis=1)"
   ]
  },
  {
   "cell_type": "code",
   "execution_count": 12,
   "metadata": {},
   "outputs": [
    {
     "data": {
      "text/plain": [
       "(5120, 2)"
      ]
     },
     "execution_count": 12,
     "metadata": {},
     "output_type": "execute_result"
    }
   ],
   "source": [
    "bbox_centers.shape"
   ]
  },
  {
   "cell_type": "code",
   "execution_count": 13,
   "metadata": {},
   "outputs": [],
   "source": [
    "bboxes = np.concatenate((bbox_centers - bbox_shapes / 2,\n",
    "                        bbox_centers + bbox_shapes / 2), axis=1)"
   ]
  },
  {
   "cell_type": "code",
   "execution_count": 14,
   "metadata": {},
   "outputs": [
    {
     "data": {
      "text/plain": [
       "(5120, 4)"
      ]
     },
     "execution_count": 14,
     "metadata": {},
     "output_type": "execute_result"
    }
   ],
   "source": [
    "bboxes.shape # 2 corners of each anchor generated"
   ]
  },
  {
   "cell_type": "code",
   "execution_count": 15,
   "metadata": {},
   "outputs": [
    {
     "name": "stdout",
     "output_type": "stream",
     "text": [
      "Num of generated anchors:\t 5120\n"
     ]
    }
   ],
   "source": [
    "# Anchors are created for each feature map\n",
    "anchors = []\n",
    "anchors.append(bboxes)\n",
    "print('Num of generated anchors:\\t', len(bboxes))\n",
    "\n",
    "anchors = np.concatenate(anchors, axis=0)"
   ]
  },
  {
   "cell_type": "markdown",
   "metadata": {},
   "source": [
    "Understanding proposal generating function (given RPN outputs)"
   ]
  },
  {
   "cell_type": "code",
   "execution_count": 16,
   "metadata": {},
   "outputs": [],
   "source": [
    "rpn_bbox = np.random.normal(scale=5.0, size=(50, 32*32*5, 4))\n",
    "rpn_probs = np.random.uniform(size=(50, 32*32*5, 1))\n",
    "rpn_probs = np.concatenate((1-rpn_probs, rpn_probs), axis=2)"
   ]
  },
  {
   "cell_type": "code",
   "execution_count": 18,
   "metadata": {},
   "outputs": [
    {
     "data": {
      "text/plain": [
       "True"
      ]
     },
     "execution_count": 18,
     "metadata": {},
     "output_type": "execute_result"
    }
   ],
   "source": [
    "np.all(rpn_probs[:, :, 0]+rpn_probs[:, :, 1] == 1.0)"
   ]
  },
  {
   "cell_type": "code",
   "execution_count": 19,
   "metadata": {},
   "outputs": [],
   "source": [
    "batchlen = 50\n",
    "proposal_count = 20\n",
    "mode = 'pixelwise'\n",
    "\n",
    "proposals = np.zeros((batchlen, proposal_count, 4))\n",
    "origanchors = np.zeros((batchlen,proposal_count,4))"
   ]
  },
  {
   "cell_type": "code",
   "execution_count": 20,
   "metadata": {},
   "outputs": [],
   "source": [
    "pred_scores = rpn_probs[1]\n",
    "pred_deltas = rpn_bbox[1]\n",
    "# Find where predicted positive (foreground) boxes\n",
    "positive_idxs = np.where(np.argmax(pred_scores, axis=-1)==1)[0]"
   ]
  },
  {
   "cell_type": "code",
   "execution_count": 30,
   "metadata": {},
   "outputs": [],
   "source": [
    "positive_anchors = anchors[positive_idxs]"
   ]
  },
  {
   "cell_type": "code",
   "execution_count": 31,
   "metadata": {},
   "outputs": [
    {
     "data": {
      "text/plain": [
       "(2588, 4)"
      ]
     },
     "execution_count": 31,
     "metadata": {},
     "output_type": "execute_result"
    }
   ],
   "source": [
    "positive_anchors.shape"
   ]
  },
  {
   "cell_type": "code",
   "execution_count": 32,
   "metadata": {},
   "outputs": [],
   "source": [
    "proposals = np.random.randint(0, 512, size=(batchlen, proposal_count, 4)).astype(float)"
   ]
  },
  {
   "cell_type": "code",
   "execution_count": 39,
   "metadata": {},
   "outputs": [],
   "source": [
    "proposal = proposals[2]\n",
    "proposal = proposal/512"
   ]
  },
  {
   "cell_type": "code",
   "execution_count": 40,
   "metadata": {},
   "outputs": [
    {
     "data": {
      "text/plain": [
       "(20, 4)"
      ]
     },
     "execution_count": 40,
     "metadata": {},
     "output_type": "execute_result"
    }
   ],
   "source": [
    "proposal.shape"
   ]
  }
 ],
 "metadata": {
  "interpreter": {
   "hash": "b08fbbdb625a1bd47f2df3b9a6d08aa77f5ee8b60b707c6c4c23898f6e322d6d"
  },
  "kernelspec": {
   "display_name": "Python 3.9.7 64-bit ('pyro-gpu': conda)",
   "language": "python",
   "name": "python3"
  },
  "language_info": {
   "codemirror_mode": {
    "name": "ipython",
    "version": 3
   },
   "file_extension": ".py",
   "mimetype": "text/x-python",
   "name": "python",
   "nbconvert_exporter": "python",
   "pygments_lexer": "ipython3",
   "version": "3.9.7"
  },
  "orig_nbformat": 4
 },
 "nbformat": 4,
 "nbformat_minor": 2
}
